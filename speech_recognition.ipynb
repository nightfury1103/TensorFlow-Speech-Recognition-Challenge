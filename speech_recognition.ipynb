{
 "cells": [
  {
   "cell_type": "code",
   "execution_count": 59,
   "metadata": {},
   "outputs": [],
   "source": [
    "import os\n",
    "import numpy as np\n",
    "import pandas as pd\n",
    "import librosa\n",
    "import librosa.display\n",
    "import tensorflow as tf\n",
    "from tensorflow.keras.models import Sequential\n",
    "from tensorflow.keras.layers import Dense, Conv2D, Flatten, Dropout, MaxPooling2D\n",
    "from sklearn.model_selection import train_test_split\n",
    "import matplotlib.pyplot as plt\n",
    "import tqdm\n",
    "from sklearn.preprocessing import LabelEncoder"
   ]
  },
  {
   "cell_type": "code",
   "execution_count": 2,
   "metadata": {},
   "outputs": [
    {
     "name": "stdout",
     "output_type": "stream",
     "text": [
      "_background_noise_  dog    four   left\t  off\t seven\t three\twow\n",
      "bed\t\t    down   go\t  marvin  on\t sheila  tree\tyes\n",
      "bird\t\t    eight  happy  nine\t  one\t six\t two\tzero\n",
      "cat\t\t    five   house  no\t  right  stop\t up\n"
     ]
    }
   ],
   "source": [
    "!ls train/audio"
   ]
  },
  {
   "cell_type": "markdown",
   "metadata": {},
   "source": [
    "# Read data"
   ]
  },
  {
   "cell_type": "code",
   "execution_count": 41,
   "metadata": {},
   "outputs": [
    {
     "data": {
      "text/html": [
       "<div>\n",
       "<style scoped>\n",
       "    .dataframe tbody tr th:only-of-type {\n",
       "        vertical-align: middle;\n",
       "    }\n",
       "\n",
       "    .dataframe tbody tr th {\n",
       "        vertical-align: top;\n",
       "    }\n",
       "\n",
       "    .dataframe thead th {\n",
       "        text-align: right;\n",
       "    }\n",
       "</style>\n",
       "<table border=\"1\" class=\"dataframe\">\n",
       "  <thead>\n",
       "    <tr style=\"text-align: right;\">\n",
       "      <th></th>\n",
       "      <th>path</th>\n",
       "      <th>label</th>\n",
       "    </tr>\n",
       "  </thead>\n",
       "  <tbody>\n",
       "    <tr>\n",
       "      <th>0</th>\n",
       "      <td>train/audio/_background_noise_/white_noise.wav</td>\n",
       "      <td>_background_noise_</td>\n",
       "    </tr>\n",
       "    <tr>\n",
       "      <th>1</th>\n",
       "      <td>train/audio/_background_noise_/running_tap.wav</td>\n",
       "      <td>_background_noise_</td>\n",
       "    </tr>\n",
       "    <tr>\n",
       "      <th>2</th>\n",
       "      <td>train/audio/_background_noise_/dude_miaowing.wav</td>\n",
       "      <td>_background_noise_</td>\n",
       "    </tr>\n",
       "    <tr>\n",
       "      <th>3</th>\n",
       "      <td>train/audio/_background_noise_/pink_noise.wav</td>\n",
       "      <td>_background_noise_</td>\n",
       "    </tr>\n",
       "    <tr>\n",
       "      <th>4</th>\n",
       "      <td>train/audio/_background_noise_/exercise_bike.wav</td>\n",
       "      <td>_background_noise_</td>\n",
       "    </tr>\n",
       "    <tr>\n",
       "      <th>...</th>\n",
       "      <td>...</td>\n",
       "      <td>...</td>\n",
       "    </tr>\n",
       "    <tr>\n",
       "      <th>64722</th>\n",
       "      <td>train/audio/zero/3ff840aa_nohash_0.wav</td>\n",
       "      <td>zero</td>\n",
       "    </tr>\n",
       "    <tr>\n",
       "      <th>64723</th>\n",
       "      <td>train/audio/zero/db7c95b0_nohash_0.wav</td>\n",
       "      <td>zero</td>\n",
       "    </tr>\n",
       "    <tr>\n",
       "      <th>64724</th>\n",
       "      <td>train/audio/zero/637c702a_nohash_1.wav</td>\n",
       "      <td>zero</td>\n",
       "    </tr>\n",
       "    <tr>\n",
       "      <th>64725</th>\n",
       "      <td>train/audio/zero/9e42ae25_nohash_1.wav</td>\n",
       "      <td>zero</td>\n",
       "    </tr>\n",
       "    <tr>\n",
       "      <th>64726</th>\n",
       "      <td>train/audio/zero/f5d09ebd_nohash_0.wav</td>\n",
       "      <td>zero</td>\n",
       "    </tr>\n",
       "  </tbody>\n",
       "</table>\n",
       "<p>64727 rows × 2 columns</p>\n",
       "</div>"
      ],
      "text/plain": [
       "                                                   path               label\n",
       "0        train/audio/_background_noise_/white_noise.wav  _background_noise_\n",
       "1        train/audio/_background_noise_/running_tap.wav  _background_noise_\n",
       "2      train/audio/_background_noise_/dude_miaowing.wav  _background_noise_\n",
       "3         train/audio/_background_noise_/pink_noise.wav  _background_noise_\n",
       "4      train/audio/_background_noise_/exercise_bike.wav  _background_noise_\n",
       "...                                                 ...                 ...\n",
       "64722            train/audio/zero/3ff840aa_nohash_0.wav                zero\n",
       "64723            train/audio/zero/db7c95b0_nohash_0.wav                zero\n",
       "64724            train/audio/zero/637c702a_nohash_1.wav                zero\n",
       "64725            train/audio/zero/9e42ae25_nohash_1.wav                zero\n",
       "64726            train/audio/zero/f5d09ebd_nohash_0.wav                zero\n",
       "\n",
       "[64727 rows x 2 columns]"
      ]
     },
     "execution_count": 41,
     "metadata": {},
     "output_type": "execute_result"
    }
   ],
   "source": [
    "# create json dataset with format: \n",
    "# [\n",
    "#   {\n",
    "#     \"path\": \"path/to/audio/file\",\n",
    "#     \"label\": \"label\"\n",
    "#   },\n",
    "#   ...\n",
    "# ]\n",
    "path = 'train/audio'\n",
    "data = []\n",
    "\n",
    "for label in os.listdir(path):\n",
    "    for file in os.listdir(f'{path}/{label}'):\n",
    "        if file == 'README.md':\n",
    "            continue\n",
    "        data.append({\n",
    "            'path': f'{path}/{label}/{file}',\n",
    "            'label': label\n",
    "        })\n",
    "\n",
    "df = pd.DataFrame(data)\n",
    "df\n"
   ]
  },
  {
   "cell_type": "markdown",
   "metadata": {},
   "source": [
    "# Convert audio to spectrogram"
   ]
  },
  {
   "cell_type": "code",
   "execution_count": 45,
   "metadata": {},
   "outputs": [],
   "source": [
    "def audio_to_spectrogram(file_path, max_pad_len=174):\n",
    "    wave, sr = librosa.load(file_path, mono=True, sr=None)\n",
    "    mfcc = librosa.feature.mfcc(y=wave, sr=sr, n_mfcc=20)\n",
    "    pad_width = max_pad_len - mfcc.shape[1]\n",
    "    if pad_width > 0:\n",
    "        mfcc = np.pad(mfcc, pad_width=((0, 0), (0, pad_width)), mode='constant')\n",
    "    else:\n",
    "        mfcc = mfcc[:, :max_pad_len]\n",
    "    return mfcc\n"
   ]
  },
  {
   "cell_type": "code",
   "execution_count": 46,
   "metadata": {},
   "outputs": [
    {
     "name": "stderr",
     "output_type": "stream",
     "text": [
      "100%|██████████| 64727/64727 [03:39<00:00, 294.65it/s]\n"
     ]
    }
   ],
   "source": [
    "# df['spectrogram'] = df['path'].apply(audio_to_spectrogram)\n",
    "df['spectrogram'] = df['path'] \n",
    "for i in tqdm.tqdm(range(len(df))):\n",
    "    df['spectrogram'][i] = audio_to_spectrogram(df['path'][i])\n"
   ]
  },
  {
   "cell_type": "markdown",
   "metadata": {},
   "source": [
    "# Split dataset"
   ]
  },
  {
   "cell_type": "code",
   "execution_count": 69,
   "metadata": {},
   "outputs": [],
   "source": [
    "# split data into train, validation, and test sets\n",
    "\n",
    "X = np.array(df['spectrogram'].tolist())\n",
    "X = X[..., np.newaxis]\n",
    "y = np.array(df['label'].tolist())\n",
    "\n",
    "# Assuming `y_train` and `y_test` are your categorical labels\n",
    "label_encoder = LabelEncoder()\n",
    "y_encoded = label_encoder.fit_transform(y)\n",
    "\n",
    "X_train, X_test, y_train, y_test = train_test_split(X, y_encoded, test_size=0.2, random_state=42, shuffle=True)\n",
    "X_train, X_val, y_train, y_val = train_test_split(X_train, y_train, test_size=0.2, random_state=42, shuffle=True)"
   ]
  },
  {
   "cell_type": "code",
   "execution_count": 73,
   "metadata": {},
   "outputs": [
    {
     "name": "stdout",
     "output_type": "stream",
     "text": [
      "(41424, 20, 174, 1) (10357, 20, 174, 1) (12946, 20, 174, 1)\n"
     ]
    }
   ],
   "source": [
    "print(X_train.shape, X_val.shape, X_test.shape)"
   ]
  },
  {
   "cell_type": "markdown",
   "metadata": {},
   "source": [
    "# Define model"
   ]
  },
  {
   "cell_type": "code",
   "execution_count": 71,
   "metadata": {},
   "outputs": [
    {
     "name": "stdout",
     "output_type": "stream",
     "text": [
      "Model: \"sequential_3\"\n",
      "_________________________________________________________________\n",
      " Layer (type)                Output Shape              Param #   \n",
      "=================================================================\n",
      " conv2d_9 (Conv2D)           (None, 18, 172, 32)       320       \n",
      "                                                                 \n",
      " max_pooling2d_6 (MaxPoolin  (None, 9, 86, 32)         0         \n",
      " g2D)                                                            \n",
      "                                                                 \n",
      " conv2d_10 (Conv2D)          (None, 7, 84, 64)         18496     \n",
      "                                                                 \n",
      " max_pooling2d_7 (MaxPoolin  (None, 3, 42, 64)         0         \n",
      " g2D)                                                            \n",
      "                                                                 \n",
      " conv2d_11 (Conv2D)          (None, 1, 40, 128)        73856     \n",
      "                                                                 \n",
      " flatten_3 (Flatten)         (None, 5120)              0         \n",
      "                                                                 \n",
      " dense_6 (Dense)             (None, 128)               655488    \n",
      "                                                                 \n",
      " dropout_3 (Dropout)         (None, 128)               0         \n",
      "                                                                 \n",
      " dense_7 (Dense)             (None, 31)                3999      \n",
      "                                                                 \n",
      "=================================================================\n",
      "Total params: 752159 (2.87 MB)\n",
      "Trainable params: 752159 (2.87 MB)\n",
      "Non-trainable params: 0 (0.00 Byte)\n",
      "_________________________________________________________________\n"
     ]
    }
   ],
   "source": [
    "model = Sequential([\n",
    "    Conv2D(32, (3, 3), activation='relu', input_shape=(X_train.shape[1], X_train.shape[2], 1)),\n",
    "    MaxPooling2D((2, 2)),\n",
    "    Conv2D(64, (3, 3), activation='relu'),\n",
    "    MaxPooling2D((2, 2)),\n",
    "    Conv2D(128, (3, 3), activation='relu'),\n",
    "    Flatten(),\n",
    "    Dense(128, activation='relu'),\n",
    "    Dropout(0.5),\n",
    "    Dense(len(np.unique(y)), activation='softmax'),\n",
    "])\n",
    "\n",
    "model.compile(optimizer='adam',\n",
    "              loss='sparse_categorical_crossentropy',\n",
    "              metrics=['accuracy'])\n",
    "\n",
    "model.summary()\n"
   ]
  },
  {
   "cell_type": "code",
   "execution_count": 74,
   "metadata": {},
   "outputs": [
    {
     "name": "stdout",
     "output_type": "stream",
     "text": [
      "Epoch 1/10\n",
      "1295/1295 [==============================] - 34s 26ms/step - loss: 1.9523 - accuracy: 0.4224 - val_loss: 0.7404 - val_accuracy: 0.7745\n",
      "Epoch 2/10\n",
      "1295/1295 [==============================] - 33s 26ms/step - loss: 0.7812 - accuracy: 0.7665 - val_loss: 0.5334 - val_accuracy: 0.8390\n",
      "Epoch 3/10\n",
      "1295/1295 [==============================] - 33s 25ms/step - loss: 0.5614 - accuracy: 0.8340 - val_loss: 0.4378 - val_accuracy: 0.8721\n",
      "Epoch 4/10\n",
      "1295/1295 [==============================] - 34s 26ms/step - loss: 0.4748 - accuracy: 0.8631 - val_loss: 0.4058 - val_accuracy: 0.8800\n",
      "Epoch 5/10\n",
      "1295/1295 [==============================] - 34s 26ms/step - loss: 0.4159 - accuracy: 0.8792 - val_loss: 0.3828 - val_accuracy: 0.8946\n",
      "Epoch 6/10\n",
      "1295/1295 [==============================] - 34s 26ms/step - loss: 0.3868 - accuracy: 0.8887 - val_loss: 0.3871 - val_accuracy: 0.8931\n",
      "Epoch 7/10\n",
      "1295/1295 [==============================] - 33s 25ms/step - loss: 0.3595 - accuracy: 0.8962 - val_loss: 0.3732 - val_accuracy: 0.8979\n",
      "Epoch 8/10\n",
      "1295/1295 [==============================] - 33s 25ms/step - loss: 0.3385 - accuracy: 0.9018 - val_loss: 0.3750 - val_accuracy: 0.9003\n",
      "Epoch 9/10\n",
      "1295/1295 [==============================] - 35s 27ms/step - loss: 0.3201 - accuracy: 0.9082 - val_loss: 0.3904 - val_accuracy: 0.9022\n",
      "Epoch 10/10\n",
      "1295/1295 [==============================] - 34s 26ms/step - loss: 0.3170 - accuracy: 0.9088 - val_loss: 0.4241 - val_accuracy: 0.8904\n"
     ]
    }
   ],
   "source": [
    "history = model.fit(X_train, y_train, epochs=10, validation_data=(X_val, y_val), batch_size=32)"
   ]
  },
  {
   "cell_type": "code",
   "execution_count": 75,
   "metadata": {},
   "outputs": [
    {
     "name": "stdout",
     "output_type": "stream",
     "text": [
      "405/405 - 2s - loss: 0.4570 - accuracy: 0.8843 - 2s/epoch - 5ms/step\n",
      "\n",
      "Test accuracy: 0.8842886090278625\n"
     ]
    }
   ],
   "source": [
    "test_loss, test_acc = model.evaluate(X_test, y_test, verbose=2)\n",
    "print('\\nTest accuracy:', test_acc)"
   ]
  },
  {
   "cell_type": "code",
   "execution_count": 76,
   "metadata": {},
   "outputs": [
    {
     "data": {
      "image/png": "[encoded data removed]",
      "text/plain": [
       "<Figure size 1200x500 with 2 Axes>"
      ]
     },
     "metadata": {},
     "output_type": "display_data"
    }
   ],
   "source": [
    "plt.figure(figsize=(12, 5))\n",
    "plt.subplot(1, 2, 1)\n",
    "plt.plot(history.history['accuracy'], label='Training Accuracy')\n",
    "plt.plot(history.history['val_accuracy'], label='Validation Accuracy')\n",
    "plt.legend()\n",
    "plt.title('Accuracy over epochs')\n",
    "plt.xlabel('Epochs')\n",
    "plt.ylabel('Accuracy')\n",
    "\n",
    "plt.subplot(1, 2, 2)\n",
    "plt.plot(history.history['loss'], label='Training Loss')\n",
    "plt.plot(history.history['val_loss'], label='Validation Loss')\n",
    "plt.legend()\n",
    "plt.title('Loss over epochs')\n",
    "plt.xlabel('Epochs')\n",
    "plt.ylabel('Loss')\n",
    "plt.show()\n"
   ]
  },
  {
   "cell_type": "code",
   "execution_count": null,
   "metadata": {},
   "outputs": [],
   "source": []
  }
 ],
 "metadata": {
  "kernelspec": {
   "display_name": "distill",
   "language": "python",
   "name": "python3"
  },
  "language_info": {
   "codemirror_mode": {
    "name": "ipython",
    "version": 3
   },
   "file_extension": ".py",
   "mimetype": "text/x-python",
   "name": "python",
   "nbconvert_exporter": "python",
   "pygments_lexer": "ipython3",
   "version": "3.10.6"
  },
  "orig_nbformat": 4
 },
 "nbformat": 4,
 "nbformat_minor": 2
}
